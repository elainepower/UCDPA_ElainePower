{
 "cells": [
  {
   "cell_type": "markdown",
   "id": "8fa377cf",
   "metadata": {},
   "source": [
    "# Extra Learning Milestones for Assignment "
   ]
  },
  {
   "cell_type": "markdown",
   "id": "4772ccfe",
   "metadata": {},
   "source": [
    "# 1. Python"
   ]
  },
  {
   "cell_type": "code",
   "execution_count": 1,
   "id": "40951735",
   "metadata": {},
   "outputs": [],
   "source": [
    "# NumPy  \n",
    "# Dictionary or Lists "
   ]
  },
  {
   "cell_type": "code",
   "execution_count": 2,
   "id": "bf0967e0",
   "metadata": {},
   "outputs": [],
   "source": [
    "#For this I am using Numpy to find the engagement rate of 5 Twitter accounts\n",
    "#The details of the account are in a list below\n",
    "#They take the format; author, total posts, total engagements"
   ]
  },
  {
   "cell_type": "code",
   "execution_count": 3,
   "id": "ca7bd4e3",
   "metadata": {},
   "outputs": [
    {
     "data": {
      "text/plain": [
       "[['author 1', 39, 5832],\n",
       " ['author 2', 38, 5754],\n",
       " ['author 3', 35, 9069],\n",
       " ['author 4', 29, 2004],\n",
       " ['author 5', 17, 1793]]"
      ]
     },
     "execution_count": 3,
     "metadata": {},
     "output_type": "execute_result"
    }
   ],
   "source": [
    "import numpy as np\n",
    "\n",
    "twitteraccounts = [[\"author 1\", 39, 5832],\n",
    "                  [\"author 2\", 38, 5754],\n",
    "                  [\"author 3\", 35, 9069],\n",
    "                  [\"author 4\", 29, 2004],\n",
    "                  [\"author 5\", 17, 1793]]\n",
    "twitteraccounts"
   ]
  },
  {
   "cell_type": "code",
   "execution_count": 4,
   "id": "4ac45cbb",
   "metadata": {},
   "outputs": [],
   "source": [
    "#In order to figure out the engagement rate of each author = \n",
    "#I divide total engagements by total posts using Numpy."
   ]
  },
  {
   "cell_type": "code",
   "execution_count": 5,
   "id": "1f30a061",
   "metadata": {},
   "outputs": [
    {
     "data": {
      "text/plain": [
       "array([39, 38, 35, 29, 17])"
      ]
     },
     "execution_count": 5,
     "metadata": {},
     "output_type": "execute_result"
    }
   ],
   "source": [
    "posts = [39, 38, 35, 29, 17]\n",
    "np_posts = np.array(posts)\n",
    "np_posts"
   ]
  },
  {
   "cell_type": "code",
   "execution_count": 6,
   "id": "1b51dca6",
   "metadata": {},
   "outputs": [
    {
     "data": {
      "text/plain": [
       "array([5832, 5754, 9069, 2004, 1793])"
      ]
     },
     "execution_count": 6,
     "metadata": {},
     "output_type": "execute_result"
    }
   ],
   "source": [
    "engagements = [5832, 5754, 9069, 2004, 1793]\n",
    "np_engagements = np.array(engagements)\n",
    "np_engagements"
   ]
  },
  {
   "cell_type": "code",
   "execution_count": 7,
   "id": "fa89682b",
   "metadata": {},
   "outputs": [
    {
     "data": {
      "text/plain": [
       "array([149.53846154, 151.42105263, 259.11428571,  69.10344828,\n",
       "       105.47058824])"
      ]
     },
     "execution_count": 7,
     "metadata": {},
     "output_type": "execute_result"
    }
   ],
   "source": [
    "engagement_rate = np_engagements / np_posts\n",
    "engagement_rate"
   ]
  },
  {
   "cell_type": "code",
   "execution_count": 8,
   "id": "1c1f39dc",
   "metadata": {},
   "outputs": [],
   "source": [
    "#Author 3 had the highest engagement rate, earning almost 260 engagements per tweet sent.\n",
    "#Author 4 had the lowest engagement rate, earning almost 70 engagements per tweet sent."
   ]
  },
  {
   "cell_type": "code",
   "execution_count": 9,
   "id": "c3eeecfb",
   "metadata": {},
   "outputs": [
    {
     "data": {
      "text/plain": [
       "146.9295672790965"
      ]
     },
     "execution_count": 9,
     "metadata": {},
     "output_type": "execute_result"
    }
   ],
   "source": [
    "np.mean(engagement_rate)"
   ]
  },
  {
   "cell_type": "code",
   "execution_count": 10,
   "id": "5b703dbd",
   "metadata": {},
   "outputs": [],
   "source": [
    "#The average engagement per post was 146. \n",
    "#Subset the data to see how many accounts were above average."
   ]
  },
  {
   "cell_type": "code",
   "execution_count": 11,
   "id": "41f811b4",
   "metadata": {},
   "outputs": [
    {
     "data": {
      "text/plain": [
       "array([ True,  True,  True, False, False])"
      ]
     },
     "execution_count": 11,
     "metadata": {},
     "output_type": "execute_result"
    }
   ],
   "source": [
    "engagement_rate>146"
   ]
  },
  {
   "cell_type": "code",
   "execution_count": 12,
   "id": "f1634be4",
   "metadata": {},
   "outputs": [],
   "source": [
    "#Three accounts had an engagement rate of over 146 - Author 1, Author 2, Author 3"
   ]
  },
  {
   "cell_type": "code",
   "execution_count": 13,
   "id": "75cfe267",
   "metadata": {},
   "outputs": [
    {
     "data": {
      "text/plain": [
       "array([149.53846154, 151.42105263, 259.11428571])"
      ]
     },
     "execution_count": 13,
     "metadata": {},
     "output_type": "execute_result"
    }
   ],
   "source": [
    "engagement_rate[engagement_rate>146]"
   ]
  },
  {
   "cell_type": "markdown",
   "id": "649e7c50",
   "metadata": {},
   "source": [
    "# 2. API - Alpha Vantage"
   ]
  },
  {
   "cell_type": "code",
   "execution_count": 14,
   "id": "ee98ba43",
   "metadata": {},
   "outputs": [],
   "source": [
    "#1. \"Your project should make use of one or more of the following: Relational database, API or web scraping\""
   ]
  },
  {
   "cell_type": "code",
   "execution_count": 15,
   "id": "48a048f9",
   "metadata": {},
   "outputs": [],
   "source": [
    "#Using the Alpha Vantage API to obtain data"
   ]
  },
  {
   "cell_type": "markdown",
   "id": "61dd613e",
   "metadata": {},
   "source": [
    "TIME SERIES INTRADAY - IBM"
   ]
  },
  {
   "cell_type": "code",
   "execution_count": 16,
   "id": "89b0f6ef",
   "metadata": {},
   "outputs": [
    {
     "name": "stdout",
     "output_type": "stream",
     "text": [
      "{'Meta Data': {'1. Information': 'Intraday (5min) open, high, low, close prices and volume', '2. Symbol': 'IBM', '3. Last Refreshed': '2022-03-22 20:00:00', '4. Interval': '5min', '5. Output Size': 'Compact', '6. Time Zone': 'US/Eastern'}, 'Time Series (5min)': {'2022-03-22 20:00:00': {'1. open': '129.0600', '2. high': '129.0600', '3. low': '129.0600', '4. close': '129.0600', '5. volume': '138'}, '2022-03-22 19:50:00': {'1. open': '129.3000', '2. high': '129.3000', '3. low': '129.3000', '4. close': '129.3000', '5. volume': '901'}, '2022-03-22 19:45:00': {'1. open': '129.2500', '2. high': '129.3000', '3. low': '129.2500', '4. close': '129.3000', '5. volume': '1000'}, '2022-03-22 16:15:00': {'1. open': '129.1400', '2. high': '129.1400', '3. low': '129.1400', '4. close': '129.1400', '5. volume': '200'}, '2022-03-22 16:05:00': {'1. open': '129.0600', '2. high': '129.0600', '3. low': '129.0600', '4. close': '129.0600', '5. volume': '40393'}, '2022-03-22 16:00:00': {'1. open': '128.9900', '2. high': '129.1000', '3. low': '128.8900', '4. close': '129.0800', '5. volume': '218963'}, '2022-03-22 15:55:00': {'1. open': '129.2300', '2. high': '129.3000', '3. low': '128.9900', '4. close': '128.9900', '5. volume': '92276'}, '2022-03-22 15:50:00': {'1. open': '128.9900', '2. high': '129.2300', '3. low': '128.9750', '4. close': '129.2145', '5. volume': '68090'}, '2022-03-22 15:45:00': {'1. open': '128.9300', '2. high': '129.0100', '3. low': '128.8400', '4. close': '128.9900', '5. volume': '35179'}, '2022-03-22 15:40:00': {'1. open': '128.9300', '2. high': '129.0500', '3. low': '128.9050', '4. close': '128.9450', '5. volume': '49229'}, '2022-03-22 15:35:00': {'1. open': '128.8850', '2. high': '128.9500', '3. low': '128.8400', '4. close': '128.9300', '5. volume': '35480'}, '2022-03-22 15:30:00': {'1. open': '128.9100', '2. high': '128.9150', '3. low': '128.8500', '4. close': '128.8700', '5. volume': '26837'}, '2022-03-22 15:25:00': {'1. open': '128.9150', '2. high': '128.9500', '3. low': '128.8700', '4. close': '128.9100', '5. volume': '20729'}, '2022-03-22 15:20:00': {'1. open': '128.9100', '2. high': '129.0100', '3. low': '128.8833', '4. close': '128.9200', '5. volume': '45624'}, '2022-03-22 15:15:00': {'1. open': '128.7700', '2. high': '128.9250', '3. low': '128.7000', '4. close': '128.8900', '5. volume': '27479'}, '2022-03-22 15:10:00': {'1. open': '128.8599', '2. high': '128.9100', '3. low': '128.7300', '4. close': '128.7750', '5. volume': '44769'}, '2022-03-22 15:05:00': {'1. open': '128.7800', '2. high': '128.8800', '3. low': '128.7350', '4. close': '128.8500', '5. volume': '26679'}, '2022-03-22 15:00:00': {'1. open': '128.7800', '2. high': '128.8500', '3. low': '128.7710', '4. close': '128.7800', '5. volume': '13114'}, '2022-03-22 14:55:00': {'1. open': '128.7000', '2. high': '128.8200', '3. low': '128.6900', '4. close': '128.7900', '5. volume': '17224'}, '2022-03-22 14:50:00': {'1. open': '128.7900', '2. high': '128.8000', '3. low': '128.6900', '4. close': '128.7100', '5. volume': '13202'}, '2022-03-22 14:45:00': {'1. open': '128.7800', '2. high': '128.8100', '3. low': '128.7300', '4. close': '128.8100', '5. volume': '21399'}, '2022-03-22 14:40:00': {'1. open': '128.7700', '2. high': '128.8300', '3. low': '128.7600', '4. close': '128.7800', '5. volume': '18555'}, '2022-03-22 14:35:00': {'1. open': '128.7350', '2. high': '128.7917', '3. low': '128.6900', '4. close': '128.7536', '5. volume': '15463'}, '2022-03-22 14:30:00': {'1. open': '128.7600', '2. high': '128.8200', '3. low': '128.7200', '4. close': '128.7442', '5. volume': '16926'}, '2022-03-22 14:25:00': {'1. open': '128.8541', '2. high': '128.8596', '3. low': '128.7300', '4. close': '128.7700', '5. volume': '28287'}, '2022-03-22 14:20:00': {'1. open': '128.8600', '2. high': '128.8781', '3. low': '128.8080', '4. close': '128.8400', '5. volume': '11426'}, '2022-03-22 14:15:00': {'1. open': '128.8997', '2. high': '128.9350', '3. low': '128.8500', '4. close': '128.8500', '5. volume': '11876'}, '2022-03-22 14:10:00': {'1. open': '128.8812', '2. high': '128.9132', '3. low': '128.8495', '4. close': '128.8800', '5. volume': '11800'}, '2022-03-22 14:05:00': {'1. open': '128.9300', '2. high': '128.9500', '3. low': '128.8700', '4. close': '128.9000', '5. volume': '16481'}, '2022-03-22 14:00:00': {'1. open': '128.9200', '2. high': '128.9900', '3. low': '128.8700', '4. close': '128.9200', '5. volume': '17335'}, '2022-03-22 13:55:00': {'1. open': '128.8600', '2. high': '128.9500', '3. low': '128.8400', '4. close': '128.9500', '5. volume': '22000'}, '2022-03-22 13:50:00': {'1. open': '128.8300', '2. high': '128.8700', '3. low': '128.8000', '4. close': '128.8532', '5. volume': '16022'}, '2022-03-22 13:45:00': {'1. open': '128.7500', '2. high': '128.8350', '3. low': '128.7400', '4. close': '128.8350', '5. volume': '13142'}, '2022-03-22 13:40:00': {'1. open': '128.8300', '2. high': '128.8400', '3. low': '128.7100', '4. close': '128.7800', '5. volume': '15020'}, '2022-03-22 13:35:00': {'1. open': '128.8600', '2. high': '128.8900', '3. low': '128.8195', '4. close': '128.8400', '5. volume': '13649'}, '2022-03-22 13:30:00': {'1. open': '128.7900', '2. high': '128.8400', '3. low': '128.7300', '4. close': '128.8400', '5. volume': '14649'}, '2022-03-22 13:25:00': {'1. open': '128.8500', '2. high': '128.8500', '3. low': '128.7306', '4. close': '128.7897', '5. volume': '10346'}, '2022-03-22 13:20:00': {'1. open': '128.9600', '2. high': '129.0000', '3. low': '128.9041', '4. close': '128.9200', '5. volume': '17952'}, '2022-03-22 13:15:00': {'1. open': '128.8500', '2. high': '128.9800', '3. low': '128.8300', '4. close': '128.9800', '5. volume': '11690'}, '2022-03-22 13:10:00': {'1. open': '128.8950', '2. high': '128.8950', '3. low': '128.8332', '4. close': '128.8645', '5. volume': '9306'}, '2022-03-22 13:05:00': {'1. open': '129.0600', '2. high': '129.0800', '3. low': '128.8500', '4. close': '128.8800', '5. volume': '21086'}, '2022-03-22 13:00:00': {'1. open': '128.8950', '2. high': '129.0500', '3. low': '128.8700', '4. close': '129.0400', '5. volume': '26217'}, '2022-03-22 12:55:00': {'1. open': '128.7300', '2. high': '128.9300', '3. low': '128.7300', '4. close': '128.9100', '5. volume': '13802'}, '2022-03-22 12:50:00': {'1. open': '128.6900', '2. high': '128.7850', '3. low': '128.6500', '4. close': '128.7500', '5. volume': '22364'}, '2022-03-22 12:45:00': {'1. open': '128.8300', '2. high': '128.8700', '3. low': '128.7400', '4. close': '128.7467', '5. volume': '22801'}, '2022-03-22 12:40:00': {'1. open': '128.6900', '2. high': '128.8500', '3. low': '128.6000', '4. close': '128.8300', '5. volume': '28304'}, '2022-03-22 12:35:00': {'1. open': '128.5500', '2. high': '128.6900', '3. low': '128.4900', '4. close': '128.6900', '5. volume': '34307'}, '2022-03-22 12:30:00': {'1. open': '128.5800', '2. high': '128.6100', '3. low': '128.4900', '4. close': '128.5600', '5. volume': '22792'}, '2022-03-22 12:25:00': {'1. open': '128.5900', '2. high': '128.6200', '3. low': '128.5200', '4. close': '128.6100', '5. volume': '23670'}, '2022-03-22 12:20:00': {'1. open': '128.4900', '2. high': '128.5950', '3. low': '128.4450', '4. close': '128.5950', '5. volume': '23334'}, '2022-03-22 12:15:00': {'1. open': '128.4900', '2. high': '128.5300', '3. low': '128.4300', '4. close': '128.4900', '5. volume': '13177'}, '2022-03-22 12:10:00': {'1. open': '128.3981', '2. high': '128.5400', '3. low': '128.3981', '4. close': '128.4600', '5. volume': '26196'}, '2022-03-22 12:05:00': {'1. open': '128.4650', '2. high': '128.4682', '3. low': '128.3400', '4. close': '128.4100', '5. volume': '51394'}, '2022-03-22 12:00:00': {'1. open': '128.3650', '2. high': '128.4785', '3. low': '128.3650', '4. close': '128.4600', '5. volume': '18116'}, '2022-03-22 11:55:00': {'1. open': '128.2500', '2. high': '128.3600', '3. low': '128.2300', '4. close': '128.3600', '5. volume': '20080'}, '2022-03-22 11:50:00': {'1. open': '128.0300', '2. high': '128.2590', '3. low': '128.0100', '4. close': '128.2200', '5. volume': '15496'}, '2022-03-22 11:45:00': {'1. open': '128.1150', '2. high': '128.1300', '3. low': '127.9800', '4. close': '128.0100', '5. volume': '32371'}, '2022-03-22 11:40:00': {'1. open': '128.2100', '2. high': '128.2100', '3. low': '128.1100', '4. close': '128.1200', '5. volume': '14278'}, '2022-03-22 11:35:00': {'1. open': '128.3550', '2. high': '128.3550', '3. low': '128.1700', '4. close': '128.2000', '5. volume': '23021'}, '2022-03-22 11:30:00': {'1. open': '128.3600', '2. high': '128.3900', '3. low': '128.2400', '4. close': '128.3470', '5. volume': '18629'}, '2022-03-22 11:25:00': {'1. open': '128.2300', '2. high': '128.3800', '3. low': '128.2000', '4. close': '128.3400', '5. volume': '21321'}, '2022-03-22 11:20:00': {'1. open': '128.1300', '2. high': '128.2299', '3. low': '128.0700', '4. close': '128.2050', '5. volume': '22704'}, '2022-03-22 11:15:00': {'1. open': '128.1300', '2. high': '128.2300', '3. low': '128.0800', '4. close': '128.1200', '5. volume': '15927'}, '2022-03-22 11:10:00': {'1. open': '128.0900', '2. high': '128.1700', '3. low': '128.0300', '4. close': '128.1100', '5. volume': '14016'}, '2022-03-22 11:05:00': {'1. open': '128.1500', '2. high': '128.1696', '3. low': '128.0400', '4. close': '128.0600', '5. volume': '22002'}, '2022-03-22 11:00:00': {'1. open': '128.2006', '2. high': '128.2100', '3. low': '128.0200', '4. close': '128.1500', '5. volume': '23424'}, '2022-03-22 10:55:00': {'1. open': '128.3200', '2. high': '128.3400', '3. low': '128.1500', '4. close': '128.2199', '5. volume': '22661'}, '2022-03-22 10:50:00': {'1. open': '128.4300', '2. high': '128.4500', '3. low': '128.3100', '4. close': '128.3350', '5. volume': '16297'}, '2022-03-22 10:45:00': {'1. open': '128.3914', '2. high': '128.5079', '3. low': '128.3500', '4. close': '128.4390', '5. volume': '27202'}, '2022-03-22 10:40:00': {'1. open': '128.2203', '2. high': '128.4127', '3. low': '128.2203', '4. close': '128.4127', '5. volume': '21696'}, '2022-03-22 10:35:00': {'1. open': '128.2200', '2. high': '128.2800', '3. low': '127.9101', '4. close': '128.2200', '5. volume': '39935'}, '2022-03-22 10:30:00': {'1. open': '128.2415', '2. high': '128.3000', '3. low': '128.1500', '4. close': '128.2000', '5. volume': '34728'}, '2022-03-22 10:25:00': {'1. open': '128.1000', '2. high': '128.2993', '3. low': '128.0768', '4. close': '128.2683', '5. volume': '21735'}, '2022-03-22 10:20:00': {'1. open': '128.2100', '2. high': '128.3000', '3. low': '127.9900', '4. close': '128.0800', '5. volume': '39345'}, '2022-03-22 10:15:00': {'1. open': '128.2600', '2. high': '128.4200', '3. low': '128.1501', '4. close': '128.2100', '5. volume': '32298'}, '2022-03-22 10:10:00': {'1. open': '128.3550', '2. high': '128.3550', '3. low': '128.1900', '4. close': '128.2800', '5. volume': '30616'}, '2022-03-22 10:05:00': {'1. open': '128.4700', '2. high': '128.4900', '3. low': '128.2100', '4. close': '128.3500', '5. volume': '26070'}, '2022-03-22 10:00:00': {'1. open': '128.7800', '2. high': '128.8500', '3. low': '128.4700', '4. close': '128.4700', '5. volume': '21542'}, '2022-03-22 09:55:00': {'1. open': '129.0975', '2. high': '129.1699', '3. low': '128.7900', '4. close': '128.7900', '5. volume': '26124'}, '2022-03-22 09:50:00': {'1. open': '128.6300', '2. high': '129.0800', '3. low': '128.5700', '4. close': '129.0800', '5. volume': '27604'}, '2022-03-22 09:45:00': {'1. open': '128.6000', '2. high': '128.8900', '3. low': '128.4901', '4. close': '128.7000', '5. volume': '32944'}, '2022-03-22 09:40:00': {'1. open': '128.2400', '2. high': '128.5835', '3. low': '128.1500', '4. close': '128.5500', '5. volume': '25740'}, '2022-03-22 09:35:00': {'1. open': '128.5000', '2. high': '128.5400', '3. low': '127.8500', '4. close': '128.1800', '5. volume': '100990'}, '2022-03-22 09:30:00': {'1. open': '128.5500', '2. high': '128.5500', '3. low': '128.5500', '4. close': '128.5500', '5. volume': '777'}, '2022-03-22 09:00:00': {'1. open': '128.1000', '2. high': '128.1000', '3. low': '128.1000', '4. close': '128.1000', '5. volume': '400'}, '2022-03-22 08:30:00': {'1. open': '128.3000', '2. high': '128.3000', '3. low': '128.3000', '4. close': '128.3000', '5. volume': '500'}, '2022-03-22 08:25:00': {'1. open': '128.3000', '2. high': '128.3000', '3. low': '128.3000', '4. close': '128.3000', '5. volume': '2170'}, '2022-03-22 08:05:00': {'1. open': '128.5400', '2. high': '128.5400', '3. low': '128.5400', '4. close': '128.5400', '5. volume': '175'}, '2022-03-22 06:20:00': {'1. open': '128.6900', '2. high': '128.6900', '3. low': '128.6900', '4. close': '128.6900', '5. volume': '210'}, '2022-03-21 18:50:00': {'1. open': '128.4400', '2. high': '128.4400', '3. low': '128.4400', '4. close': '128.4400', '5. volume': '148'}, '2022-03-21 18:35:00': {'1. open': '128.1100', '2. high': '128.1100', '3. low': '128.1100', '4. close': '128.1100', '5. volume': '503'}, '2022-03-21 16:50:00': {'1. open': '128.3600', '2. high': '128.3600', '3. low': '128.3600', '4. close': '128.3600', '5. volume': '390'}, '2022-03-21 16:25:00': {'1. open': '128.5500', '2. high': '128.5500', '3. low': '128.5500', '4. close': '128.5500', '5. volume': '302'}, '2022-03-21 16:10:00': {'1. open': '128.1000', '2. high': '128.1000', '3. low': '128.1000', '4. close': '128.1000', '5. volume': '4460'}, '2022-03-21 16:05:00': {'1. open': '128.1000', '2. high': '128.1000', '3. low': '128.1000', '4. close': '128.1000', '5. volume': '55351'}, '2022-03-21 16:00:00': {'1. open': '127.9800', '2. high': '128.1400', '3. low': '127.9000', '4. close': '128.1000', '5. volume': '176852'}, '2022-03-21 15:55:00': {'1. open': '127.7600', '2. high': '128.0961', '3. low': '127.7550', '4. close': '127.9600', '5. volume': '100761'}, '2022-03-21 15:50:00': {'1. open': '127.8300', '2. high': '127.9300', '3. low': '127.7400', '4. close': '127.7500', '5. volume': '79557'}, '2022-03-21 15:45:00': {'1. open': '127.7900', '2. high': '127.8800', '3. low': '127.7600', '4. close': '127.8500', '5. volume': '43917'}, '2022-03-21 15:40:00': {'1. open': '127.8200', '2. high': '127.8800', '3. low': '127.7500', '4. close': '127.7800', '5. volume': '54563'}}}\n"
     ]
    }
   ],
   "source": [
    "import requests\n",
    "url = 'https://www.alphavantage.co/query?function=TIME_SERIES_INTRADAY&symbol=IBM&interval=5min&apikey=2YK4BESUBA7MKVEW'\n",
    "r = requests.get(url)\n",
    "data = r.json()\n",
    "\n",
    "print(data)"
   ]
  },
  {
   "cell_type": "markdown",
   "id": "e57e97e0",
   "metadata": {},
   "source": [
    "COMPANY OVERVIEW - IBM"
   ]
  },
  {
   "cell_type": "code",
   "execution_count": 17,
   "id": "0e320012",
   "metadata": {},
   "outputs": [
    {
     "name": "stdout",
     "output_type": "stream",
     "text": [
      "{'Symbol': 'IBM', 'AssetType': 'Common Stock', 'Name': 'International Business Machines Corporation', 'Description': 'International Business Machines Corporation (IBM) is an American multinational technology company headquartered in Armonk, New York, with operations in over 170 countries. The company began in 1911, founded in Endicott, New York, as the Computing-Tabulating-Recording Company (CTR) and was renamed International Business Machines in 1924. IBM is incorporated in New York. IBM produces and sells computer hardware, middleware and software, and provides hosting and consulting services in areas ranging from mainframe computers to nanotechnology. IBM is also a major research organization, holding the record for most annual U.S. patents generated by a business (as of 2020) for 28 consecutive years. Inventions by IBM include the automated teller machine (ATM), the floppy disk, the hard disk drive, the magnetic stripe card, the relational database, the SQL programming language, the UPC barcode, and dynamic random-access memory (DRAM). The IBM mainframe, exemplified by the System/360, was the dominant computing platform during the 1960s and 1970s.', 'CIK': '51143', 'Exchange': 'NYSE', 'Currency': 'USD', 'Country': 'USA', 'Sector': 'TECHNOLOGY', 'Industry': 'COMPUTER & OFFICE EQUIPMENT', 'Address': '1 NEW ORCHARD ROAD, ARMONK, NY, US', 'FiscalYearEnd': 'December', 'LatestQuarter': '2021-12-31', 'MarketCapitalization': '115679060000', 'EBITDA': '12189000000', 'PERatio': '20.33', 'PEGRatio': '1.182', 'BookValue': '21.05', 'DividendPerShare': '6.56', 'DividendYield': '0.0508', 'EPS': '6.35', 'RevenuePerShareTTM': '64.01', 'ProfitMargin': '0.1', 'OperatingMarginTTM': '0.101', 'ReturnOnAssetsTTM': '0.0251', 'ReturnOnEquityTTM': '0.237', 'RevenueTTM': '57351000000', 'GrossProfitTTM': '31486000000', 'DilutedEPSTTM': '6.35', 'QuarterlyEarningsGrowthYOY': '0.696', 'QuarterlyRevenueGrowthYOY': '0.692', 'AnalystTargetPrice': '143.47', 'TrailingPE': '20.33', 'ForwardPE': '12.14', 'PriceToSalesRatioTTM': '2.017', 'PriceToBookRatio': '5.9', 'EVToRevenue': '2.779', 'EVToEBITDA': '12.84', 'Beta': '1.099', '52WeekHigh': '140.73', '52WeekLow': '113.2', '50DayMovingAverage': '129.77', '200DayMovingAverage': '130.74', 'SharesOutstanding': '896320000', 'DividendDate': '2022-03-10', 'ExDividendDate': '2022-02-10'}\n"
     ]
    }
   ],
   "source": [
    "import requests\n",
    "\n",
    "url = 'https://www.alphavantage.co/query?function=OVERVIEW&symbol=IBM&apikey=2YK4BESUBA7MKVEW'\n",
    "r = requests.get(url)\n",
    "data = r.json()\n",
    "\n",
    "print(data)"
   ]
  },
  {
   "cell_type": "markdown",
   "id": "a57a94d1",
   "metadata": {},
   "source": [
    "Realtime Exchange Rates; EUR to USD + ETH to BTC"
   ]
  },
  {
   "cell_type": "code",
   "execution_count": 18,
   "id": "f76fa62e",
   "metadata": {},
   "outputs": [
    {
     "data": {
      "text/plain": [
       "{'Realtime Currency Exchange Rate': {'1. From_Currency Code': 'EUR',\n",
       "  '2. From_Currency Name': 'Euro',\n",
       "  '3. To_Currency Code': 'USD',\n",
       "  '4. To_Currency Name': 'United States Dollar',\n",
       "  '5. Exchange Rate': '1.10095790',\n",
       "  '6. Last Refreshed': '2022-03-23 17:51:01',\n",
       "  '7. Time Zone': 'UTC',\n",
       "  '8. Bid Price': '1.10095790',\n",
       "  '9. Ask Price': '1.10095790'}}"
      ]
     },
     "execution_count": 18,
     "metadata": {},
     "output_type": "execute_result"
    }
   ],
   "source": [
    "import requests\n",
    "\n",
    "url = 'https://www.alphavantage.co/query?function=CURRENCY_EXCHANGE_RATE&from_currency=EUR&to_currency=USD&apikey=2YK4BESUBA7MKVEW'\n",
    "r = requests.get(url)\n",
    "data = r.json()\n",
    "\n",
    "data"
   ]
  },
  {
   "cell_type": "code",
   "execution_count": 19,
   "id": "2f45b56a",
   "metadata": {},
   "outputs": [
    {
     "data": {
      "text/plain": [
       "{'Realtime Currency Exchange Rate': {'1. From_Currency Code': 'ETH',\n",
       "  '2. From_Currency Name': 'Ethereum',\n",
       "  '3. To_Currency Code': 'BTC',\n",
       "  '4. To_Currency Name': 'Bitcoin',\n",
       "  '5. Exchange Rate': '0.07051100',\n",
       "  '6. Last Refreshed': '2022-03-23 17:51:04',\n",
       "  '7. Time Zone': 'UTC',\n",
       "  '8. Bid Price': '0.07051100',\n",
       "  '9. Ask Price': '0.07051200'}}"
      ]
     },
     "execution_count": 19,
     "metadata": {},
     "output_type": "execute_result"
    }
   ],
   "source": [
    "import requests\n",
    "\n",
    "url = 'https://www.alphavantage.co/query?function=CURRENCY_EXCHANGE_RATE&from_currency=ETH&to_currency=BTC&apikey=2YK4BESUBA7MKVEW'\n",
    "r = requests.get(url)\n",
    "data = r.json()\n",
    "\n",
    "data"
   ]
  },
  {
   "cell_type": "code",
   "execution_count": null,
   "id": "5fc4f770",
   "metadata": {},
   "outputs": [],
   "source": []
  }
 ],
 "metadata": {
  "kernelspec": {
   "display_name": "Python 3 (ipykernel)",
   "language": "python",
   "name": "python3"
  },
  "language_info": {
   "codemirror_mode": {
    "name": "ipython",
    "version": 3
   },
   "file_extension": ".py",
   "mimetype": "text/x-python",
   "name": "python",
   "nbconvert_exporter": "python",
   "pygments_lexer": "ipython3",
   "version": "3.9.7"
  }
 },
 "nbformat": 4,
 "nbformat_minor": 5
}
