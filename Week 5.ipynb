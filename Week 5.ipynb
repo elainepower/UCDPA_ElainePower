{
 "cells": [
  {
   "cell_type": "code",
   "execution_count": 1,
   "id": "30ed6503",
   "metadata": {},
   "outputs": [],
   "source": [
    "import pandas as pd"
   ]
  },
  {
   "cell_type": "code",
   "execution_count": 2,
   "id": "8e81318a",
   "metadata": {},
   "outputs": [],
   "source": [
    "import requests"
   ]
  },
  {
   "cell_type": "code",
   "execution_count": 3,
   "id": "921b72ab",
   "metadata": {},
   "outputs": [],
   "source": [
    "import matplotlib.pyplot as plt"
   ]
  },
  {
   "cell_type": "code",
   "execution_count": 4,
   "id": "68af0a69",
   "metadata": {},
   "outputs": [
    {
     "data": {
      "text/plain": [
       "{'timestamp': 1645730287,\n",
       " 'message': 'success',\n",
       " 'iss_position': {'longitude': '170.5874', 'latitude': '51.3207'}}"
      ]
     },
     "execution_count": 4,
     "metadata": {},
     "output_type": "execute_result"
    }
   ],
   "source": [
    "iss = requests.get('http://api.open-notify.org/iss-now.json')\n",
    "iss.json()"
   ]
  },
  {
   "cell_type": "code",
   "execution_count": 5,
   "id": "5d65a76f",
   "metadata": {},
   "outputs": [
    {
     "data": {
      "text/plain": [
       "<Response [200]>"
      ]
     },
     "execution_count": 5,
     "metadata": {},
     "output_type": "execute_result"
    }
   ],
   "source": [
    "iss_dict = iss.json()\n",
    "requests.get('http://api.open-notify.org/astros.json')"
   ]
  },
  {
   "cell_type": "code",
   "execution_count": 6,
   "id": "64ee5aa1",
   "metadata": {},
   "outputs": [
    {
     "data": {
      "text/plain": [
       "'-171.6255'"
      ]
     },
     "execution_count": 6,
     "metadata": {},
     "output_type": "execute_result"
    }
   ],
   "source": [
    "iss = requests.get('http://api.open-notify.org/iss-now.json')\n",
    "iss_dict = iss.json()\n",
    "iss_dict['iss_position']['longitude']"
   ]
  },
  {
   "cell_type": "code",
   "execution_count": 7,
   "id": "191edefe",
   "metadata": {},
   "outputs": [],
   "source": [
    "people = requests.get('http://api.open-notify.org/astros.json')"
   ]
  },
  {
   "cell_type": "code",
   "execution_count": 8,
   "id": "e2933d90",
   "metadata": {},
   "outputs": [],
   "source": [
    "people_dict = people.json()"
   ]
  },
  {
   "cell_type": "code",
   "execution_count": 9,
   "id": "c9fc4263",
   "metadata": {},
   "outputs": [
    {
     "data": {
      "text/plain": [
       "10"
      ]
     },
     "execution_count": 9,
     "metadata": {},
     "output_type": "execute_result"
    }
   ],
   "source": [
    "people_dict['number']"
   ]
  },
  {
   "cell_type": "code",
   "execution_count": 10,
   "id": "30ced57c",
   "metadata": {},
   "outputs": [
    {
     "name": "stdout",
     "output_type": "stream",
     "text": [
      "There are 10 in space right now\n"
     ]
    }
   ],
   "source": [
    "print('There are ' + str(requests.get('http://api.open-notify.org/astros.json').json()['number']) + \" in space right now\")"
   ]
  },
  {
   "cell_type": "code",
   "execution_count": null,
   "id": "d34dfb0b",
   "metadata": {},
   "outputs": [],
   "source": []
  }
 ],
 "metadata": {
  "kernelspec": {
   "display_name": "Python 3 (ipykernel)",
   "language": "python",
   "name": "python3"
  },
  "language_info": {
   "codemirror_mode": {
    "name": "ipython",
    "version": 3
   },
   "file_extension": ".py",
   "mimetype": "text/x-python",
   "name": "python",
   "nbconvert_exporter": "python",
   "pygments_lexer": "ipython3",
   "version": "3.9.7"
  }
 },
 "nbformat": 4,
 "nbformat_minor": 5
}
